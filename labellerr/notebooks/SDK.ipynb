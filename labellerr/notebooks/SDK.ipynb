{
 "cells": [
  {
   "cell_type": "markdown",
   "id": "d6488b6b",
   "metadata": {},
   "source": [
    "# Getting Started with Labellerr SDK\n",
    "\n",
    "This notebook demonstrates how to use the Labellerr SDK for video processing and scene detection. The SDK provides powerful tools for managing video datasets, processing videos, and detecting scene changes using various algorithms.\n",
    "\n",
    "### Import the required Classes from Labellerr SDK\n",
    "We'll start by importing the essential classes needed for working with the SDK:"
   ]
  },
  {
   "cell_type": "code",
   "execution_count": 1,
   "id": "edcdab6a",
   "metadata": {},
   "outputs": [],
   "source": [
    "from labellerr.client import LabellerrClient\n",
    "from labellerr.core.datasets import LabellerrVideoDataset\n",
    "import os"
   ]
  },
  {
   "cell_type": "markdown",
   "id": "84b7917a",
   "metadata": {},
   "source": [
    "## Authentication Setup\n",
    "\n",
    "Before using the Labellerr SDK, you need to set up your authentication credentials. These credentials ensure secure access to the Labellerr platform and its services.\n",
    "\n",
    "### Required Credentials:\n",
    "\n",
    "1. **API Key & API Secret**\n",
    "   - Log in to your Labellerr account\n",
    "   - Navigate to the \"Get API\" tab\n",
    "   - Copy your unique API key and secret\n",
    "\n",
    "2. **Client ID**\n",
    "   - This is a unique identifier for your application\n",
    "   - Contact Labellerr support to obtain your client ID\n",
    "   \n",
    "⚠️ Important: Never share these credentials or commit them to version control."
   ]
  },
  {
   "cell_type": "code",
   "execution_count": 2,
   "id": "ab12f168",
   "metadata": {},
   "outputs": [],
   "source": [
    "api_key = \"\"\n",
    "api_secret = \"\"\n",
    "client_id = \"\""
   ]
  },
  {
   "cell_type": "markdown",
   "id": "3d05bd0f",
   "metadata": {},
   "source": [
    "## Project Configuration\n",
    "\n",
    "### Dataset and Project IDs\n",
    "To work with specific datasets and projects in Labellerr, you need their respective IDs. These IDs are unique identifiers that link your code to the correct resources on the platform.\n",
    "\n",
    "How to obtain the IDs:\n",
    "1. Go to the Labellerr platform\n",
    "2. Create or select an existing dataset\n",
    "3. Create or select an existing project\n",
    "4. Copy the dataset_id and project_id from their respective pages\n",
    "\n",
    "Note: The dataset_id is a UUID format string, while the project_id is typically a human-readable string."
   ]
  },
  {
   "cell_type": "code",
   "execution_count": 3,
   "id": "07dcfae9",
   "metadata": {},
   "outputs": [],
   "source": [
    "# go to our platform to create dataset and project then get their ids\n",
    "dataset_id = \"16257fd6-b91b-4d00-a680-9ece9f3f241c\"\n",
    "project_id = \"gabrila_artificial_duck_74237\""
   ]
  },
  {
   "cell_type": "markdown",
   "id": "1b2c7aee",
   "metadata": {},
   "source": [
    "## Initializing the Labellerr SDK\n",
    "\n",
    "### Create LabellerrClient Instance\n",
    "Now we'll create instances of the main SDK classes:\n",
    "\n",
    "1. **LabellerrClient**: The main client that handles communication with the Labellerr API\n",
    "2. **LabellerrVideoDataset**: A specialized class for working with video datasets\n",
    "\n",
    "These instances will be used for all subsequent operations with the platform."
   ]
  },
  {
   "cell_type": "code",
   "execution_count": 4,
   "id": "9eaec7e1",
   "metadata": {},
   "outputs": [],
   "source": [
    "client = LabellerrClient(api_key, api_secret, client_id) \n",
    "dataset = LabellerrVideoDataset(client, dataset_id, project_id)"
   ]
  },
  {
   "cell_type": "code",
   "execution_count": 5,
   "id": "7b6a7052",
   "metadata": {},
   "outputs": [
    {
     "name": "stdout",
     "output_type": "stream",
     "text": [
      "\n",
      "######################################################################\n",
      "# Starting batch video processing for dataset: 16257fd6-b91b-4d00-a680-9ece9f3f241c\n",
      "######################################################################\n",
      "\n",
      "Total file IDs extracted: 1\n",
      "\n",
      "Creating LabellerrFile instances for 1 files...\n",
      "Successfully created 1 LabellerrFile instances\n",
      "\n",
      "Processing 1 video files...\n",
      "\n",
      "\n",
      "Starting download of 1 files...\n",
      "\n",
      "============================================================\n",
      "Processing file: c44f38f6-0186-436f-8c2d-ffb50a539c76\n",
      "============================================================\n",
      "\n",
      "[1/4] Fetching frame data from API (0 to 1440)...\n",
      "Retrieved 1440 frames\n",
      "\n",
      "[2/4] Setting up output folders...\n",
      "\n",
      "[3/4] Downloading frames...\n",
      "Starting download of 1440 frames...\n",
      "Frames downloaded: 1440/1440 (1440 successful, 0 failed)\n",
      "\n",
      "[4/4] Creating video from frames...\n",
      "Running command: ffmpeg -y -start_number 0 -framerate 30 -i ./Labellerr_datastets\\16257fd6-b91b-4d00-a680-9ece9f3f241c\\c44f38f6-0186-436f-8c2d-ffb50a539c76\\%d.jpg -c:v libx264 -pix_fmt yuv420p ./Labellerr_datastets\\16257fd6-b91b-4d00-a680-9ece9f3f241c\\c44f38f6-0186-436f-8c2d-ffb50a539c76.mp4\n",
      "Video saved as ./Labellerr_datastets\\16257fd6-b91b-4d00-a680-9ece9f3f241c\\c44f38f6-0186-436f-8c2d-ffb50a539c76.mp4\n",
      "\n",
      "Cleaning up temporary frames...\n",
      "Removed temporary frames folder: ./Labellerr_datastets\\16257fd6-b91b-4d00-a680-9ece9f3f241c\\c44f38f6-0186-436f-8c2d-ffb50a539c76\n",
      "\n",
      "============================================================\n",
      "✓ Processing complete!\n",
      "Video saved to: ./Labellerr_datastets\\16257fd6-b91b-4d00-a680-9ece9f3f241c\\c44f38f6-0186-436f-8c2d-ffb50a539c76.mp4\n",
      "============================================================\n",
      "\n",
      "Files processed: 1/1 (1 successful, 0 failed)\n",
      "######################################################################\n",
      "# Batch Processing Complete\n",
      "# Total files: 1\n",
      "# Successful: 1\n",
      "# Failed: 0\n",
      "######################################################################\n",
      "\n"
     ]
    }
   ],
   "source": [
    "results = dataset.process_all_videos()"
   ]
  },
  {
   "cell_type": "markdown",
   "id": "900ea5a7",
   "metadata": {},
   "source": [
    "### Processing Videos\n",
    "The `process_all_videos()` method will:\n",
    "- Fetch all videos in the dataset\n",
    "- Process them according to the configured settings\n",
    "- Return the results of the processing\n",
    "\n",
    "This is typically used as the first step in video analysis to ensure all videos are properly prepared for further processing."
   ]
  },
  {
   "cell_type": "markdown",
   "id": "f6db8522",
   "metadata": {},
   "source": [
    "## Scene Detection\n",
    "\n",
    "### Available Scene Detection Methods\n",
    "Labellerr SDK provides multiple algorithms for scene detection in videos:\n",
    "\n",
    "1. **PySceneDetect**: \n",
    "   - Python-based scene detection\n",
    "   - Uses content-aware detection\n",
    "   - Good for general-purpose scene detection\n",
    "\n",
    "2. **SSIMSceneDetect**:\n",
    "   - Uses Structural Similarity Index (SSIM)\n",
    "   - Better for detecting subtle scene changes\n",
    "   - More computationally intensive but more accurate\n",
    "\n",
    "3. **FFMPEGSceneDetect**:\n",
    "   - Uses FFMPEG for scene detection\n",
    "   - Fastest method\n",
    "   - Good for quick analysis of large video files\n",
    "\n",
    "Choose the method that best suits your needs based on accuracy requirements and processing speed constraints."
   ]
  },
  {
   "cell_type": "code",
   "execution_count": 15,
   "id": "f5c41073",
   "metadata": {},
   "outputs": [
    {
     "name": "stderr",
     "output_type": "stream",
     "text": [
      "c:\\Users\\HP\\.conda\\envs\\SDk\\lib\\site-packages\\tqdm\\auto.py:21: TqdmWarning: IProgress not found. Please update jupyter and ipywidgets. See https://ipywidgets.readthedocs.io/en/stable/user_install.html\n",
      "  from .autonotebook import tqdm as notebook_tqdm\n"
     ]
    }
   ],
   "source": [
    "from labellerr.services.video_sampling.pyscene_detect import PySceneDetect\n",
    "from labellerr.services.video_sampling.ssim import SSIMSceneDetect\n",
    "from labellerr.services.video_sampling.ffmpeg import FFMPEGSceneDetect"
   ]
  },
  {
   "cell_type": "markdown",
   "id": "db88da50",
   "metadata": {},
   "source": [
    "## Scene Detection Implementation\n",
    "\n",
    "### Setting up the Scene Detector\n",
    "Now we'll set up the scene detection process:\n",
    "\n",
    "1. First, we'll define the dataset directory where our videos are stored\n",
    "2. Then we'll create an instance of our chosen detector\n",
    "3. Finally, we'll process each video in the dataset\n",
    "\n",
    "Note: Make sure you have sufficient disk space for storing the extracted scenes, as this process can generate multiple files per video."
   ]
  },
  {
   "cell_type": "code",
   "execution_count": 11,
   "id": "49a6f89d",
   "metadata": {},
   "outputs": [],
   "source": [
    "dataset_dir = f\".\\Labellerr_datastets\\{dataset_id}\""
   ]
  },
  {
   "cell_type": "code",
   "execution_count": 18,
   "id": "dd96be8c",
   "metadata": {},
   "outputs": [],
   "source": [
    "detector = FFMPEGSceneDetect()"
   ]
  },
  {
   "cell_type": "markdown",
   "id": "995d99ec",
   "metadata": {},
   "source": [
    "### Initialize the Scene Detector\n",
    "Here we create an instance of the SSIMSceneDetect class. This detector uses the Structural Similarity Index Measure (SSIM) to identify scene changes in videos. SSIM is particularly effective at detecting subtle changes between frames."
   ]
  },
  {
   "cell_type": "code",
   "execution_count": 19,
   "id": "a3052f25",
   "metadata": {},
   "outputs": [
    {
     "name": "stdout",
     "output_type": "stream",
     "text": [
      "Keyframes extracted to FFMPEG_detects\\16257fd6-b91b-4d00-a680-9ece9f3f241c\\c44f38f6-0186-436f-8c2d-ffb50a539c76\\frames\n",
      "JSON mapping saved to: FFMPEG_detects\\16257fd6-b91b-4d00-a680-9ece9f3f241c\\c44f38f6-0186-436f-8c2d-ffb50a539c76\\c44f38f6-0186-436f-8c2d-ffb50a539c76_mapping.json\n"
     ]
    }
   ],
   "source": [
    "for filename in os.listdir(dataset_dir):\n",
    "    file_path = os.path.join(dataset_dir, filename)\n",
    "    \n",
    "    if os.path.isfile(file_path):\n",
    "        detector.detect_and_extract(file_path)"
   ]
  },
  {
   "cell_type": "markdown",
   "id": "8d64ac26",
   "metadata": {},
   "source": [
    "### Process Videos for Scene Detection\n",
    "\n",
    "The following code block:\n",
    "1. Iterates through all files in the dataset directory\n",
    "2. Constructs the full file path for each video\n",
    "3. Verifies that each path points to a file (not a directory)\n",
    "4. Applies scene detection to each video using the `detect_and_extract` method\n",
    "\n",
    "The detected scenes will be saved in a subdirectory with the same name as the input video file. Each scene will be saved as a separate video file."
   ]
  },
  {
   "cell_type": "code",
   "execution_count": null,
   "id": "40c70986",
   "metadata": {},
   "outputs": [],
   "source": []
  }
 ],
 "metadata": {
  "kernelspec": {
   "display_name": "SDk",
   "language": "python",
   "name": "python3"
  },
  "language_info": {
   "codemirror_mode": {
    "name": "ipython",
    "version": 3
   },
   "file_extension": ".py",
   "mimetype": "text/x-python",
   "name": "python",
   "nbconvert_exporter": "python",
   "pygments_lexer": "ipython3",
   "version": "3.10.18"
  }
 },
 "nbformat": 4,
 "nbformat_minor": 5
}
